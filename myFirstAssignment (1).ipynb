{
  "nbformat": 4,
  "nbformat_minor": 0,
  "metadata": {
    "colab": {
      "provenance": []
    },
    "kernelspec": {
      "name": "python3",
      "display_name": "Python 3"
    },
    "language_info": {
      "name": "python"
    }
  },
  "cells": [
    {
      "cell_type": "code",
      "execution_count": 1,
      "metadata": {
        "colab": {
          "base_uri": "https://localhost:8080/"
        },
        "id": "8cOu9VPclv-v",
        "outputId": "de62b524-60d9-4cfb-b6f8-6e452177601a"
      },
      "outputs": [
        {
          "output_type": "stream",
          "name": "stdout",
          "text": [
            "['abdullah', 'uzair', 'hamza', 'ahmad']\n",
            "['abdullah', 'uzair', 'hamza']\n",
            "['abdullah', 'hamza', 'uzair']\n",
            "3\n"
          ]
        }
      ],
      "source": [
        "# Create a program to manage a list of student names. Implement functionalities to:\n",
        "\n",
        "# Add a new student.\n",
        "# Remove a student by name.\n",
        "# Display all students in alphabetical order.\n",
        "# Count the total number of students.\n",
        "\n",
        "student = []\n",
        "student.append(\"abdullah\")\n",
        "student.append(\"uzair\")\n",
        "student.append(\"hamza\")\n",
        "student.append(\"ahmad\")\n",
        "print(student)\n",
        "student.remove(\"ahmad\")\n",
        "print(student)\n",
        "student.sort(key = str.lower)\n",
        "print(student)\n",
        "print(len(student))"
      ]
    },
    {
      "cell_type": "code",
      "source": [
        "# Project 2: List Operations Demo\n",
        "# Develop a Python script to demonstrate:\n",
        "\n",
        "# Appending items to a list.\n",
        "# Inserting an item at a specific position.\n",
        "# Popping and removing items.\n",
        "# Sorting and reversing the list.\n",
        "\n",
        "myList = []\n",
        "myList.append(\"abdullah\")\n",
        "myList.append(\"uzair\")\n",
        "myList.append(\"hamza\")\n",
        "myList.append(\"abdusmad\")\n",
        "myList.append(\"imad\")\n",
        "myList.append(\"shafahad\")\n",
        "myList.append(\"jawad\")\n",
        "print(myList)\n",
        "myList.insert(3,\"talha\")\n",
        "print(myList)\n",
        "myList.pop()\n",
        "print(myList)\n",
        "myList.remove(\"imad\")\n",
        "print(myList)\n",
        "myList.sort()\n",
        "print(myList)\n",
        "myList.reverse()\n",
        "print(myList)\n"
      ],
      "metadata": {
        "colab": {
          "base_uri": "https://localhost:8080/"
        },
        "id": "kmJFtIqYqPYh",
        "outputId": "8db4b359-ac44-4fc5-fd5c-65048ab715b5"
      },
      "execution_count": null,
      "outputs": [
        {
          "output_type": "stream",
          "name": "stdout",
          "text": [
            "['abdullah', 'uzair', 'hamza', 'abdusmad', 'imad', 'shafahad', 'jawad']\n",
            "['abdullah', 'uzair', 'hamza', 'talha', 'abdusmad', 'imad', 'shafahad', 'jawad']\n",
            "['abdullah', 'uzair', 'hamza', 'talha', 'abdusmad', 'imad', 'shafahad']\n",
            "['abdullah', 'uzair', 'hamza', 'talha', 'abdusmad', 'shafahad']\n",
            "['abdullah', 'abdusmad', 'hamza', 'shafahad', 'talha', 'uzair']\n",
            "['uzair', 'talha', 'shafahad', 'hamza', 'abdusmad', 'abdullah']\n"
          ]
        }
      ]
    },
    {
      "cell_type": "code",
      "source": [],
      "metadata": {
        "id": "8FGfrPaErkRV"
      },
      "execution_count": null,
      "outputs": []
    }
  ]
}